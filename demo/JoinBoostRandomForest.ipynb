{
  "nbformat": 4,
  "nbformat_minor": 0,
  "metadata": {
    "colab": {
      "provenance": [],
      "include_colab_link": true
    },
    "kernelspec": {
      "name": "python3",
      "display_name": "Python 3"
    },
    "language_info": {
      "name": "python"
    }
  },
  "cells": [
    {
      "cell_type": "markdown",
      "metadata": {
        "id": "view-in-github",
        "colab_type": "text"
      },
      "source": [
        "<a href=\"https://colab.research.google.com/github/sirrice/joinboost-demo/blob/main/demo/JoinBoostRandomForest.ipynb\" target=\"_parent\"><img src=\"https://colab.research.google.com/assets/colab-badge.svg\" alt=\"Open In Colab\"/></a>"
      ]
    },
    {
      "cell_type": "markdown",
      "source": [
        "# Install JoinBoost and databases package.\n",
        "In this demo, we use duckdb as the database.\n"
      ],
      "metadata": {
        "id": "-lrYeFdDjQoA"
      }
    },
    {
      "cell_type": "code",
      "execution_count": null,
      "metadata": {
        "id": "Rm5Q6iNfZ8GD"
      },
      "outputs": [],
      "source": [
        "%pip install joinboost==0.0.1521\n",
        "%pip install duckdb"
      ]
    },
    {
      "cell_type": "markdown",
      "source": [
        "# Download data and load data into database.\n",
        "\n",
        "This step is only necessary for this demo as we don't have existing databases. JoinBoost to directly build models over your databases without data downloading/loading."
      ],
      "metadata": {
        "id": "x5H_VYddjikx"
      }
    },
    {
      "cell_type": "code",
      "source": [
        "def CreateJoinGraph(exe=None):\n",
        "  dataset = JoinGraph(exe=exe)\n",
        "  dataset.add_relation(\"sales\", [], y = 'Y')\n",
        "  dataset.add_relation(\"holidays\", [\"htype\", \"locale\", \"locale_name\", \"transferred\",\"f2\"])\n",
        "  dataset.add_relation(\"oil\", [\"dcoilwtico\",\"f3\"])\n",
        "  dataset.add_relation(\"transactions\", [\"transactions\",\"f5\"])\n",
        "  dataset.add_relation(\"stores\", [\"city\",\"state\",\"stype\",\"cluster\",\"f4\"])\n",
        "  dataset.add_relation(\"items\", [\"family\",\"class\",\"perishable\",\"f1\"])\n",
        "  dataset.add_join(\"sales\", \"items\", [\"item_nbr\"], [\"item_nbr\"])\n",
        "  dataset.add_join(\"sales\", \"transactions\", [\"tid\"], [\"tid\"])\n",
        "  dataset.add_join(\"transactions\", \"stores\", [\"store_nbr\"], [\"store_nbr\"])\n",
        "  dataset.add_join(\"transactions\", \"holidays\", [\"date\"], [\"date\"])\n",
        "  dataset.add_join(\"holidays\", \"oil\", [\"date\"], [\"date\"])\n",
        "  return dataset"
      ],
      "metadata": {
        "id": "xtQpTghxnJ0H"
      },
      "execution_count": null,
      "outputs": []
    },
    {
      "cell_type": "code",
      "source": [
        "import duckdb\n",
        "import time\n",
        "import urllib.request\n",
        "from joinboost.executor import DuckdbExecutor\n",
        "from joinboost.joingraph import JoinGraph\n",
        "from joinboost.app import DecisionTree,GradientBoosting,RandomForest\n",
        "\n",
        "urllib.request.urlretrieve(\"https://www.dropbox.com/s/kaovdndtevcvt83/holidays.csv?dl=1\", \"holidays.csv\")\n",
        "urllib.request.urlretrieve(\"https://www.dropbox.com/s/wh6amz4um7ieyqz/items.csv?dl=1\", \"items.csv\")\n",
        "urllib.request.urlretrieve(\"https://www.dropbox.com/s/ze6of1xqwslt8jb/oil.csv?dl=1\", \"oil.csv\")\n",
        "urllib.request.urlretrieve(\"https://www.dropbox.com/s/lcqpncj48ds3jao/sales.parquet?dl=1\", \"sales.parquet\")\n",
        "urllib.request.urlretrieve(\"https://www.dropbox.com/s/cwy6z0b7rhsnrxb/stores.csv?dl=1\", \"stores.csv\")\n",
        "urllib.request.urlretrieve(\"https://www.dropbox.com/s/2uogid62tc95fwa/test.csv?dl=1\", \"test.csv\")\n",
        "urllib.request.urlretrieve(\"https://www.dropbox.com/s/2bxto9wnetwnvqd/transactions.csv?dl=1\", \"transactions.csv\")"
      ],
      "metadata": {
        "id": "_nguVMFva-cL"
      },
      "execution_count": null,
      "outputs": []
    },
    {
      "cell_type": "code",
      "source": [
        "con = duckdb.connect(database=':memory:')\n",
        "con.execute(\"CREATE OR REPLACE TABLE holidays AS SELECT * FROM 'holidays.csv';\")\n",
        "con.execute(\"CREATE OR REPLACE TABLE oil AS SELECT * FROM 'oil.csv';\")\n",
        "con.execute(\"CREATE OR REPLACE TABLE transactions AS SELECT * FROM 'transactions.csv';\")\n",
        "con.execute(\"CREATE OR REPLACE TABLE stores AS SELECT * FROM 'stores.csv';\")\n",
        "con.execute(\"CREATE OR REPLACE TABLE items AS SELECT * FROM 'items.csv';\")\n",
        "con.execute(\"CREATE OR REPLACE TABLE sales AS SELECT * FROM 'sales.parquet';\")\n",
        "con.execute(\"CREATE OR REPLACE TABLE test AS SELECT * FROM 'test.csv';\")"
      ],
      "metadata": {
        "id": "Z8qR4c_Dt9bd"
      },
      "execution_count": null,
      "outputs": []
    },
    {
      "cell_type": "markdown",
      "source": [
        "# Data exploration and Data Transformation\n",
        "You can use the database SQL queries to show all available tables and their schema. You can perform data transformations over these tables."
      ],
      "metadata": {
        "id": "V9kyIbTDkoQs"
      }
    },
    {
      "cell_type": "code",
      "source": [
        "con.execute(\"describe;\").df()"
      ],
      "metadata": {
        "id": "4vBUantWkdwG"
      },
      "execution_count": null,
      "outputs": []
    },
    {
      "cell_type": "code",
      "source": [
        "con.execute(\"select count(*) from sales;\").df()"
      ],
      "metadata": {
        "id": "4uyJxasQ9F69"
      },
      "execution_count": null,
      "outputs": []
    },
    {
      "cell_type": "markdown",
      "source": [
        "# Build Join Graph\n",
        "\n"
      ],
      "metadata": {
        "id": "gpe4R6eGkGXX"
      }
    },
    {
      "cell_type": "code",
      "source": [
        "exe = DuckdbExecutor(con, debug=False)\n",
        "dataset = CreateJoinGraph(exe=exe)\n",
        "dataset"
      ],
      "metadata": {
        "id": "ECpX-gl6k_OX"
      },
      "execution_count": null,
      "outputs": []
    },
    {
      "cell_type": "markdown",
      "source": [
        "# XGboost"
      ],
      "metadata": {
        "id": "kiAVusoGk4QE"
      }
    },
    {
      "cell_type": "code",
      "source": [
        "%%time\n",
        "join = con.execute(\"\"\"\n",
        "SELECT \tY,onpromotion,htype,locale,locale_name,transferred,f2,oil.date AS date,dcoilwtico,f3,sales.tid AS tid,transactions,f5,stores.store_nbr AS store_nbr,city,state,stype,cluster,f4,sales.item_nbr AS item_nbr,family,class,perishable,f1,unit_sales\n",
        "FROM sales\n",
        "JOIN items ON items.item_nbr = sales.item_nbr\n",
        "JOIN transactions ON sales.tid = transactions.tid\n",
        "JOIN stores ON transactions.store_nbr = stores.store_nbr\n",
        "JOIN holidays ON transactions.date = holidays.date\n",
        "JOIN oil ON holidays.date = oil.date\n",
        "\"\"\").df()"
      ],
      "metadata": {
        "id": "0rN0AbsGYo-p"
      },
      "execution_count": null,
      "outputs": []
    },
    {
      "cell_type": "code",
      "source": [
        "%%time\n",
        "import xgboost as xgb\n",
        "x = [\"onpromotion\",\"htype\",\"locale\",\"locale_name\",\"transferred\",\"f2\",\"date\",\"dcoilwtico\",\"f3\",\"tid\",\"transactions\",\"f5\",\"store_nbr\",\"city\",\"state\",\"stype\",\"cluster\",\"f4\",\"item_nbr\",\"family\",\"class\",\"perishable\",\"f1\",\"unit_sales\"]\n",
        "y = \"Y\"\n",
        "xgb_model = xgb.XGBRFRegressor(max_leaves=8, max_depth=3, n_estimators=5, learning_rate=1, subsample=1, colsample_bynode=1, reg_lambda=0)\n",
        "xgb_model.fit(join[x], join[y])\n"
      ],
      "metadata": {
        "id": "eW-Tvo029w1L"
      },
      "execution_count": null,
      "outputs": []
    },
    {
      "cell_type": "code",
      "source": [
        "from sklearn.metrics import mean_squared_error\n",
        "test = con.execute(\"select * from test;\").df()\n",
        "print(f\"rmse {mean_squared_error(test[y], xgb_model.predict(test[x]))**0.5:.6f}\")"
      ],
      "metadata": {
        "id": "TLUyPqmc9yAY"
      },
      "execution_count": null,
      "outputs": []
    },
    {
      "cell_type": "markdown",
      "source": [
        "# JoinBoost"
      ],
      "metadata": {
        "id": "4eVV7uum9-8q"
      }
    },
    {
      "cell_type": "code",
      "source": [
        "%%time\n",
        "reg = RandomForest(max_leaves=8, max_depth=3, subsample=1,iteration=5)\n",
        "reg.fit(dataset)"
      ],
      "metadata": {
        "id": "NZ_1WAjWX8G2"
      },
      "execution_count": null,
      "outputs": []
    },
    {
      "cell_type": "code",
      "source": [
        "print(f\"rmse {reg.compute_rmse('test')[0]:.6f}\")"
      ],
      "metadata": {
        "id": "rwe6GWqZl5Mb"
      },
      "execution_count": null,
      "outputs": []
    },
    {
      "cell_type": "markdown",
      "source": [
        "# JoinBoost Internals\n",
        "Internally, JoinBoost translates ML logics into SQL, and execute SQL queries directly in databases."
      ],
      "metadata": {
        "id": "p5RPAwJT_mod"
      }
    },
    {
      "cell_type": "code",
      "source": [
        "dataset.exe.debug=True\n",
        "reg = RandomForest(max_leaves=8, max_depth=3, subsample=1,iteration=1)\n",
        "reg.fit(dataset)"
      ],
      "metadata": {
        "id": "jtWQ1uiF5mCN"
      },
      "execution_count": null,
      "outputs": []
    }
  ]
}